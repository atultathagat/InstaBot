{
 "cells": [
  {
   "cell_type": "code",
   "execution_count": 2,
   "metadata": {},
   "outputs": [],
   "source": [
    "from selenium import webdriver\n",
    "from selenium.webdriver.support.ui import WebDriverWait\n",
    "from selenium.common.exceptions import TimeoutException\n",
    "from selenium.webdriver.support import expected_conditions as EC\n",
    "from selenium.webdriver.common.by import By\n",
    "from bs4 import BeautifulSoup\n",
    "import numpy as np\n",
    "from datetime import datetime\n",
    "import matplotlib.pyplot as plt\n",
    "import pandas as pd"
   ]
  },
  {
   "cell_type": "code",
   "execution_count": 3,
   "metadata": {},
   "outputs": [],
   "source": [
    "driver=webdriver.Chrome(executable_path=\"C:/Users/Atul Tathagat/Desktop/Coding Ninjas Data Science and Machine Learning/chromedriver.exe\")\n",
    "wait=WebDriverWait(driver,10)"
   ]
  },
  {
   "cell_type": "code",
   "execution_count": 4,
   "metadata": {},
   "outputs": [],
   "source": [
    "username='SAMPLE USERNAME'\n",
    "password='SAMPLE PASSWORD'"
   ]
  },
  {
   "cell_type": "markdown",
   "metadata": {},
   "source": [
    "## Login into my instagram handle"
   ]
  },
  {
   "cell_type": "code",
   "execution_count": 5,
   "metadata": {},
   "outputs": [],
   "source": [
    "def login_into_instagram():\n",
    "    driver.get('https://www.instagram.com/')\n",
    "    username_field=wait.until(EC.presence_of_element_located((By.NAME, 'username')))\n",
    "    password_field=wait.until(EC.presence_of_element_located((By.NAME, 'password')))\n",
    "    username_field.send_keys(username)\n",
    "    password_field.send_keys(password)\n",
    "    login_btn=driver.find_elements_by_tag_name('button')\n",
    "    login_btn[1].click()"
   ]
  },
  {
   "cell_type": "code",
   "execution_count": 6,
   "metadata": {},
   "outputs": [],
   "source": [
    "login_into_instagram()"
   ]
  },
  {
   "cell_type": "markdown",
   "metadata": {},
   "source": [
    "## Opening the first 10 instagram handles when ‘food’ is searched in search bar"
   ]
  },
  {
   "cell_type": "code",
   "execution_count": 7,
   "metadata": {},
   "outputs": [],
   "source": [
    "def get_first_10_handles():\n",
    "    search_field=wait.until(EC.presence_of_element_located((By.XPATH, '//input[contains(@class,\"XTCLo\")]')))\n",
    "    search_field.clear()\n",
    "    search_field.send_keys('food')\n",
    "    wait.until(EC.presence_of_element_located((By.CLASS_NAME, 'fuqBx')))\n",
    "    food_handles=driver.find_elements_by_xpath('//span[@class=\"Ap253\"]')\n",
    "    first_10_handles=[]\n",
    "    for food_handle in food_handles[:10]:\n",
    "        first_10_handles.append(food_handle.text)\n",
    "    return first_10_handles"
   ]
  },
  {
   "cell_type": "code",
   "execution_count": 8,
   "metadata": {},
   "outputs": [
    {
     "name": "stdout",
     "output_type": "stream",
     "text": [
      "delhifoodwalks\n",
      "delhi_street_food1\n",
      "foodnetwork\n",
      "yourfoodlab\n",
      "ndtv_food\n",
      "foodtalkindia\n",
      "food\n",
      "foodie_incarnate\n",
      "foodie.__.world_\n",
      "foodandwine\n"
     ]
    }
   ],
   "source": [
    "#printing the first 10 instagram handles\n",
    "first_10_handles=get_first_10_handles()\n",
    "for i in first_10_handles:\n",
    "    print(i)"
   ]
  },
  {
   "cell_type": "markdown",
   "metadata": {},
   "source": [
    "## 1.1 Finding the top 5 instagram handles (when ‘food’ is searched in search bar) which have the highest number of followers"
   ]
  },
  {
   "cell_type": "code",
   "execution_count": 9,
   "metadata": {},
   "outputs": [],
   "source": [
    "#finding the top 5 instagram handles and their followers\n",
    "def get_top_5_handles():\n",
    "    handles=[]\n",
    "    followers_cnt=[]\n",
    "    for insta_handle in first_10_handles:\n",
    "        driver.get('https://www.instagram.com/'+insta_handle)\n",
    "        followers=wait.until(EC.presence_of_element_located((By.XPATH, '//ul[@class=\"k9GMp \"]/li[2]/a/span')))\n",
    "        no_of_followers=int(''.join(followers.get_attribute('title').split(',')))\n",
    "        handles.append(insta_handle)\n",
    "        followers_cnt.append(no_of_followers)\n",
    "    followers_cnt=np.array(followers_cnt)\n",
    "    handles=np.array(handles)\n",
    "    indices=np.argsort(followers_cnt)[::-1][:5]\n",
    "    top_5_handles=handles[indices]\n",
    "    followers=followers_cnt[indices]  \n",
    "    return top_5_handles,followers"
   ]
  },
  {
   "cell_type": "code",
   "execution_count": 10,
   "metadata": {},
   "outputs": [
    {
     "name": "stdout",
     "output_type": "stream",
     "text": [
      "foodnetwork 10909029\n",
      "foodandwine 3673869\n",
      "yourfoodlab 1512964\n",
      "foodtalkindia 303122\n",
      "foodie_incarnate 239783\n"
     ]
    }
   ],
   "source": [
    "# printing the top 5 instagram handles and their corresponding followers\n",
    "top_5_handles,followers=get_top_5_handles()\n",
    "for i in range(5):\n",
    "    print(top_5_handles[i],followers[i])"
   ]
  },
  {
   "cell_type": "markdown",
   "metadata": {},
   "source": [
    "## 1.2  Finding the number of posts these handles have done in the previous 3 days"
   ]
  },
  {
   "cell_type": "code",
   "execution_count": 11,
   "metadata": {},
   "outputs": [],
   "source": [
    "def get_number_of_posts_in_previous_3_days():\n",
    "    no_of_post_handles={}\n",
    "    for handle_name in top_5_handles:\n",
    "        driver.get('https://www.instagram.com/'+handle_name)\n",
    "        post=wait.until(EC.presence_of_element_located((By.XPATH, '//div[@class=\"_9AhH0\"]')))\n",
    "        post.click()\n",
    "        next_btn=wait.until(EC.presence_of_element_located((By.XPATH, '//a[contains(@class,\"coreSpriteRightPaginationArrow\")]')))\n",
    "        posts=0\n",
    "        while True:\n",
    "            time=wait.until(EC.presence_of_element_located((By.XPATH,'//time[contains(@class,\"Nzb55\")]')))\n",
    "            post_time = datetime.strptime(time.get_attribute('title'), '%b %d, %Y')\n",
    "            previous_days=(datetime.now() - post_time).days\n",
    "            if previous_days>3:\n",
    "                break\n",
    "            posts+=1    \n",
    "            next_btn.click()\n",
    "        no_of_post_handles[handle_name]=posts   \n",
    "    return no_of_post_handles"
   ]
  },
  {
   "cell_type": "code",
   "execution_count": 12,
   "metadata": {},
   "outputs": [
    {
     "name": "stdout",
     "output_type": "stream",
     "text": [
      "foodnetwork 32\n",
      "foodandwine 6\n",
      "yourfoodlab 4\n",
      "foodtalkindia 2\n",
      "foodie_incarnate 6\n"
     ]
    }
   ],
   "source": [
    "#printing the number of posts these handles have done in the previous 3 days\n",
    "no_of_post_handles=get_number_of_posts_in_previous_3_days()\n",
    "for handle in no_of_post_handles:\n",
    "    print(handle,no_of_post_handles[handle])"
   ]
  },
  {
   "cell_type": "markdown",
   "metadata": {},
   "source": [
    "## 1.3 Depicting this information using a suitable graph"
   ]
  },
  {
   "cell_type": "code",
   "execution_count": 13,
   "metadata": {
    "scrolled": true
   },
   "outputs": [
    {
     "data": {
      "image/png": "[encoded data removed]",
      "text/plain": [
       "<Figure size 432x288 with 1 Axes>"
      ]
     },
     "metadata": {
      "needs_background": "light"
     },
     "output_type": "display_data"
    }
   ],
   "source": [
    "# plotting bar graph of Instagram handles vs No. of followers\n",
    "plt.bar(top_5_handles,followers,color='red')\n",
    "plt.xticks(rotation=45)\n",
    "plt.xlabel('Top 5 Instagram Handles-->')\n",
    "plt.ylabel('No. of followers->')\n",
    "plt.title('Instagram handles vs No. of followers')\n",
    "plt.ticklabel_format(axis='y',style='plain')\n",
    "plt.show()"
   ]
  },
  {
   "cell_type": "code",
   "execution_count": 14,
   "metadata": {},
   "outputs": [
    {
     "data": {
      "image/png": "[encoded data removed]",
      "text/plain": [
       "<Figure size 432x288 with 1 Axes>"
      ]
     },
     "metadata": {
      "needs_background": "light"
     },
     "output_type": "display_data"
    }
   ],
   "source": [
    "# plotting bar graph of Instagram handles vs No. of posts in previous 3 days\n",
    "plt.bar(list(no_of_post_handles.keys()),list(no_of_post_handles.values()),color='orange')\n",
    "plt.xticks(rotation=45)\n",
    "plt.xlabel('Top 5 Instagram Handles-->')\n",
    "plt.ylabel('No. of posts in previous 3 days->')\n",
    "plt.title('Instagram handles vs No. of posts in previous 3 days')\n",
    "plt.show()"
   ]
  },
  {
   "cell_type": "markdown",
   "metadata": {},
   "source": [
    "## 2.1 Opening the 5 handles I obtained previously, and scraping the content of the first 10 posts of each handle."
   ]
  },
  {
   "cell_type": "code",
   "execution_count": 15,
   "metadata": {},
   "outputs": [],
   "source": [
    "#scraping the content of the first 10 posts of each handle.\n",
    "def scrap_content_of_posts():\n",
    "    list_content=[]\n",
    "    for insta_handle in top_5_handles:\n",
    "        driver.get('https://www.instagram.com/'+insta_handle)\n",
    "        post=wait.until(EC.presence_of_element_located((By.XPATH, '//div[@class=\"_9AhH0\"]')))\n",
    "        post.click()\n",
    "        next_btn=wait.until(EC.presence_of_element_located((By.XPATH, '//a[contains(@class,\"coreSpriteRightPaginationArrow\")]')))\n",
    "        count=0\n",
    "        while count<10:\n",
    "            post_content=wait.until(EC.presence_of_element_located((By.XPATH, '//div[@class=\"C4VMK\"]/span')))\n",
    "            text=BeautifulSoup(post_content.get_attribute('outerHTML'),'html.parser').text\n",
    "            list_content.append(text)\n",
    "            count+=1\n",
    "            next_btn.click()\n",
    "    return list_content   "
   ]
  },
  {
   "cell_type": "code",
   "execution_count": 16,
   "metadata": {},
   "outputs": [
    {
     "name": "stdout",
     "output_type": "stream",
     "text": [
      "Grandma's Tepong Pork (with @mollyyeh) 🥰Craving comfort food? You've got to try Grandma's Tepong Pork. The meat is so tender you won't need a knife!#GirlMeetsFarm > Sundays @ 11a|10cGet the recipe: http://foodtv.com/2KrJp9u.\n",
      "How to Make @thepioneerwoman's Mini SundaesWe can't think of a better way to ring in the new year than with MINI sundae cups!! 🍨✨See more of @thepioneerwoman, Saturdays at 10a|9c.Get the recipe: http://foodtv.com/2KPHEDa (Head to our IGTV to get the clickable link!)\n",
      "#DDD is rolling out... on @discoveryplus! 🎉 Starting Monday, you'll be able to stream @GuyFieri's epic road trips anytime you want 👏👏👏⁠. . .⁠Learn more about #discoveryplus and find updates at the link in our bio.⁠. . .⁠Plus, tune in to a HUGE 50-state marathon of #DDD happening *right now* and don't miss tonight's premiere in South Dakota at 9|8c 💥\n",
      "@carlaphall Goes to Boot CampCarla Hall is headed to Boot Camp, but can she handle the new batch of #WorstCooks recruits?An all-new season of #WorstCooks premieres Sunday, Jan. 3 at 9|8c.Stream every episode starting 1/4 on @discoveryplus. Get the details + #discoveryplus updates > https://discoverypl.us/3lP1wmt (Head to our IGTV to get a clickable link!)\n",
      "Winter Minestrone Soup (with @giadadelaurentiis)Because we're BIG fans of soup szn and even bigger fans of this winter minestrone soup 🤗 🥄Get the recipe: http://foodtv.com/3nK6dzV (Head to our IGTV for the clickable link!)\n",
      "Chopped Grudge Match TournamentEight former champions return to the #Chopped kitchen for the ULTIMATE tournament event: The chance to take down a #Chopped judge AND win a grand prize of $100,000!The first round of the #Chopped: Grudge Match Tournament kicks off Tuesday at 9|8c.\n",
      "Recipe of the Day: Black-Eyed Pea Soup 🥣 Click the link in our bio to get the recipe!\n",
      "Lemon Spaghetti might be the easiest pasta EVER 🍋⁠. . .⁠Join @BobbyFlay + @GiadaDeLaurentiis for the ultimate adventure, #BobbyAndGiadaInItaly, streaming exclusively on @discoveryplus starting January 4! Plus, Giada's stopping by tonight's NEW episode of #BeatBobbyFlay @ 9:30|8:30c 💥⁠. . .⁠Learn more about #discoveryplus and find updates at the link in our bio.\n",
      "We’re thrilled to announce that we’ll be sharing the first two episodes of @joannagaines’ new @magnolianetwork cooking show #MagnoliaTable! Tune in at 7|6c on January 3 for a two-hour special that features some of Jo’s most delicious tried and true recipes, plus a special look at how the series came together. You can start to stream the first full season of Magnolia Table with Joanna Gaines on @discoveryplus January 4.\n",
      "Kick off the new year with BRUNCH! Happy 2021 🎉⁠. . .⁠Link in bio for this Eggs Benedict Casserole recipe 👍\n",
      "“Kiribath is one of the most auspicious foods in the Sinhalese culture,\" writes @YasminSabir. \"It signifies new beginnings and prosperity— it’s often given as a baby’s first solid food, and it’s customary for it to be the first thing cooked when you move into a new house.\" It's a perfect way to kick off a new year. Tap the link in our bio for her recipe! 📸: @protazio\n",
      "F&W Cooks: Zoe Adjonyoh's Oto“Hugely symbolic in many cultures around the world, the egg represents life itself,\" explains @zoeadjonyoh. \"Oto, the vehicle in Ghanaian cuisine for the humble egg, is the dish by which new beginnings are celebrated: births, engagements, and more. It’s a great way to celebrate the new year and new possibilities.” Tap the link in our bio for her recipe!\n",
      "From Dutch ovens to colorful storage solutions, we picked our 11 favorite deals from Le Creuset's year-end sale. Tap the link in our bio to find them!\n",
      "F&W Cooks: Todd Richards' Hoppin' John@ChefToddRichards favorite way to kick off the New Year is with his take on his family's Hoppin' John recipe. “What I always loved about my great-aunt’s Hoppin’ John was how spicy it was. Her version had a good amount of crushed red pepper flakes and black pepper,\" he says. \"My recipe leans on harissa to bring an earthy heat; it’s a perfect match for the meaty black-eyed peas in this dish.” Tap the link in our bio for the recipe!\n",
      "The pandemic has cast a harsh light on the fractured foundations of the American hospitality model, a pillar of which is the notion that the customer is always right. And yet customer entitlement at restaurants is at an all-time high, making work unsafe and unbearable for many in the industry—Restaurant Editor @KhushAndOJ has gathered many of their stories here. One thing is clear: The way we think about hospitality needs to change, and the industry needs to stop prioritizing the wants of customers over the wellbeing of its staff. Tap the link in our bio to read more. #FWpro\n",
      "Spicy, sweet, and sour, these irresistible crackly ribs are easy to make ahead and would be a perfect New Year's Eve treat. Sure, parties may be off the menu, but there's no reason not to make festive snacks at home to share under your own roof or during a virtual toast—so @JustinChapple put together the perfect spread to do exactly that. Tap the link in our bio or check our IG Story today for this recipe and the rest of the menu! 📸: @protazio\n",
      "This week on Chefs at Home, @diepette, the R&D chef at @redboatfishsauce, shows us how to make three different dishes with Vietnamese kho. Tap the link in our bio to watch the video!\n",
      "No frying required for this super-easy sheet pan eggplant parm—a quick broil and a longer bake yield that perfect, just-a-little-charred eggplant texture. Tap the link in our bio for the recipe! 📸: @protazio\n",
      "@JustinChapple uses a mix of five different alliums—shallots, scallions, and sweet, yellow, and red onions—to upgrade a classic caramelized onion dip with layers of flavor. It would be a perfect addition to a snack platter to make your New Year's Eve at home feel special. Recipe linked in bio! 📸: @protazio\n",
      "F&W Cooks: Karen Akunowicz's Truffle Farro MalfadineNutty farro pasta pairs perfectly with rich truffles and roasted mushrooms in this easy, elegant dish from @ChefKarenAkunowicz. Tap the link in our bio for the recipe!\n",
      "That’s it... The last YFL Video\n",
      "Chicken 65 by Chef @sanjyotkeer...The recipe that has several stories, several sayings for its name, but no matter what! the chicken 65 is insanely awesome, the succulent tender crispy fried chicken tossed in basic spices and herbs, just makes an ordinary dish to an extraordinary level.Do try this at your home it's super easy! Super quick! Cheers!....#recipe #foodie #chicken #chickenrecipes #chicken65 #chickendinner #mumbai #chickensofinstagram #chickendry #sanjyotkeer\n",
      "The is THE PASTA VIDEO for all the pasta lovers out there! All the pasta favorites in just one video! White sauce pasta, Red sauce pasta & Pink sauce pasta. I have used very basic ingredients and these recipes are super simple to cook at home. No hassles, no pricey ingredients and no fuss. Pasta just how we Indians like it. Please don’t comment that Italian pasta is not made this way. This is how we Indians like our pasta and it’s the same way how westerners like our food sweet and bland and not hot. Enjoy the pasta recipes and let me know how did you like it! Cheers!....#pastarecipes #pastalover #pastarecipe #pasta #redsauce #whitesauce #pinksauce #pastalovers #pastasauce #indiancuisine #streetfood\n",
      "Vegetables in Paprika Sauce with Spinach Rice By Chef @sanjyotkeer....The goodness of veggies, in creamy yet delicious paprika sauce paired with healthy and flavourful  spinach rice just makes the most amazing combination. It's packed with loads of nutrients, that'll meet all your requirements of tasty, delicious and a healthy meal.Enjoy with your friends and mates. Cheers!...#recipes #food #foodie #foodporn #streetfood #mumbaifoodie #mumbaistreetfood #indian #fusionfood #fusionfood #streetsofindia #sanjyotkeer\n",
      "Paneer Makhani Biryani Cups Recipe by Chef @sanjyotkeer #MorphyRichardsHere’s my NYE party main course idea! This is an amazing party main course idea, biryani cooked and served in cups as personalised portions and i have prepped one of my most loved recipes, paneer makhani biryani which is delicious and super easy to prep for your NYE party! Have you made a recipe that you are proud of? Then participate in the contest to win amazing @morphyrichardsindia  products. 1. Upload an amazing picture. 2. Write the recipe in the caption. 3. Use the #ultimatechristmaschallenge4. Tag me on Instagram @yourfoodlab @morphyrichardsindia 5. Follow @morphyrichardsindia 6. Last date to enter the challenge – 10/01/2021T&C apply\n",
      "Chicken 65 Recipe is out now on YouTube and Facebook! Check it out now! The recipe that has several stories, several sayings for its name, but no matter what! the chicken 65 is insanely awesome, the succulent tender crispy fried chicken tossed in basic spices and herbs, just makes an ordinary dish to an extraordinary level.Do try this at your home it's super easy! Super quick! Cheers!....#recipe #foodie #chicken #chickenrecipes #chicken65 #chickendinner #mumbai #chickensofinstagram #chickendry #sanjyotkeer\n",
      "Chicken Shawarma by Chef @sanjyotkeer..Years back when I first has Shawarma at a Dubai roadside outlet, I was mind blown. The classic version and the Mexican version with a glass of fresh orange juice, this is my first memory of having shawarma. The warm Kubbus (pita bread) loads of garlic sauce, fat French fries, hot sauce, wrapped and then warmed near the shawarma griller. Then slowly we started to get shawarma in various outlets in Mumbai but still the Dubai version is something is miss. There are various versions of shawarma you get in Dubai and many other countries and also here in Munbai you get various versions. I have prepped the version I love the most and I am sure you guys will love it. There are various components and I have prepped them all, the pita bread, the chicken, hot sauce, garlic sauce, the pickle, everything. Prep the shawarma and let me know did you like it. Cheers!...#recipe #foodie #foodporn #foodstagram #foodphotography #foodstylist #foodiesofinstagram\n",
      "Vegetables in Paprika Sauce with Spinach Rice Recipe is out now on YouTube and Facebook! Check it out now! The goodness of veggies, in creamy yet delicious paprika sauce paired with healthy and flavourful  spinach rice just makes the most amazing combination. It's packed with loads of nutrients, that'll meet all your requirements of tasty, delicious and a healthy meal.Enjoy with your friends and mates. Cheers!...#recipes #food #foodie #foodporn #streetfood #mumbaifoodie #mumbaistreetfood #indian #fusionfood #fusionfood #streetsofindia #sanjyotkeer\n",
      "Chicken Shawarma Recipe is out now on YouTube and Facebook! Check it out now! Years back when I first has Shawarma at a Dubai roadside outlet, I was mind blown. The classic version and the Mexican version with a glass of fresh orange juice, this is my first memory of having shawarma. The warm Kubbus (pita bread) loads of garlic sauce, fat French fries, hot sauce, wrapped and then warmed near the shawarma griller. Then slowly we started to get shawarma in various outlets in Mumbai but still the Dubai version is something is miss. There are various versions of shawarma you get in Dubai and many other countries and also here in Munbai you get various versions. I have prepped the version I love the most and I am sure you guys will love it. There are various components and I have prepped them all, the pita bread, the chicken, hot sauce, garlic sauce, the pickle, everything. Prep the shawarma and let me know did you like it. Cheers!...#recipe #foodie #foodporn #foodstagram #foodphotography #foodstylist #foodiesofinstagram\n",
      "Mini Cheeseburst Pizza Recipe by Chef @sanjyotkeer #MorphyRichardsChristmas and New Years is round the corner, here’s my quick party starter recipe which you can prep up easily with basic ingredients. Also, I have prepped a Christmas themed snowman pizza! Let me know your Christmas themed pizza ideas in the comments below! Have you made a recipe that you are proud of? Then participate in the contest to win amazing @morphyrichardsindia products. 1. Upload an amazing picture. 2. Write the recipe in the caption. 3. Use the #ultimatechristmaschallenge4. Tag me on Instagram @yourfoodlab @morphyrichardsindia 5. Follow @morphyrichardsindia 6. Last date to enter the challenge - 10/01/2021T&C apply.\n",
      "What better for New Years Eve🥳 than a cocktail 🍸that evokes maximalist luxury? This New Years Eve, bring out the bubbly! A French 75 Will Make New Year's Feel Fancy, Even If You're Wearing Pajamas. That’s right its the fanciest, Frenchiest stuff out there: Cognac and Champagne..What you’ll need: * Cognac ",
      "* Champagne, or really good brut (i.e. very dry) sparkling wine* Sugar ",
      "* 8 lemons ",
      "What to do: 1. Start by making a simple syrup. Add 1 cup boiling water to 1 cup sugar and stir vigorously until sugar is completely dissolved.  ",
      "2. While you’re letting that cool, juice 6 of your lemons. (Reserve 2 for garnish!) Strain juice through a fine strainer to remove pulp and any seeds that may have snuck in. ",
      "3. Pour 1 ounce Cognac, ½ ounce lemon juice, and ½ ounce simple syrup into your shaker. ",
      "4. Add plenty of ice and seal. Shake hard for about 15 seconds. ",
      "5. Strain into your prepared wine glass. Then top with about 3 oz. Champagne ",
      "6. Take off a wide piece of lemon peel using a Y-peeler. Using your thumb and fore- and middle-fingers on both hands, pinch the peel, yellow side down, to express the oils onto the surface of the drink. Rub the now-oily, yellow side of the peel all the way around the rim of the wine glass. Place peel in the cocktail. ",
      "PS: Legend has it that if you drink something extremely swanky at the stroke of midnight, you’re sure to have your fanciest year yet. Recipe credits: @bonappetitPhoto credits:  Laura Murray\n",
      "The festivities might be looking a little different this year, but that doesn’t mean the New Year's Eve appetisers have to be! Nosh on tikkas and kebabs from these places in your pyjamas or order them for your house party: .1. @koylakebab : Bringing the finest 'melt-in-your-mouth' kebabs, recreating recipes passed down from generation to generation! ",
      "2. @mi.food.center.official : If you’re a meat lover, this place will be your paradise! ",
      "3. @ruletherolls : Delicious rolls, kebabs and tikkas and they  also have plenty of options for vegetarians. ",
      "4. @colonels_kababz : Packed with flavour, the kebabs and tikkas here are ideal snacks!  ",
      "5. @ammiskitchen1 : Fill your table and tummies with their delicious and wholesome tikkas!  ",
      "📸 : @pinterest\n",
      "Looking for a delicious, hearty feast this festive weekend? Order in world-celebrated @chefsujans ‘s celebratory meal created exclusively for @thedinnerboxindia. This gourmet, pop-up delivery that recently launched is offering at-home dinners by celebrity chefs for delivery in Delhi & all of NCR. .The holiday menu features some delish dishes that you should be trying: 1. Pumpkin Shorba 2. Goan Chorizo Scotch Egg / Beetroot Scotch Egg3. Duck Haleem / Jackfruit Haleem with Sheermal4. Gucci and Walnut Manti5. Chicken Roast / Paturi Paneer Ghee Roast 6. Filter Coffee Yule LogPerfect for New Year’s Eve celebrations, or even through the first long weekend of 2021, the special festive menu by Chef Sujan Sarkar is available for delivery for both lunch and dinner. Book Chef Sujan Sarkar’s Holiday Feast by calling the concierge on +91 9560288633 or by logging on to www.thedinnerbox.in. Diners can pre-order their meals 24 hours in advance. For same-day delivery, please check with the concierge..@thedinnerboxindia @roohnewdelhi #TheDinnerBoxIndia #UnboxYourDinnerBox #HolidayMenu #FestiveMenu #ChefSujanSarkar #RoohNewDelhi #BaarBaarNyc #Haleem #Sheermal #HolidayTime #Foodies #FoodiesofDelhi #GourmetFoodDelivery #FoodDeliveryDelhi #newindelhi #TasteofIndia #NyeDinner #DelhiDinners\n",
      "The alluring smell of freshly-baked bread or be it the crunchy pieces of buttered toast in the morning or just a few bread slices to mop up some leftover curry...we could go on and on about the many reasons why we love bread. From basic breads to artisanal breads, here are a few places you can go to for your daily breads: 1. @caarafood : One of their signature breads and the best sellers is the Basil Pesto Loaf, which is a treat for pesto lovers. ",
      "2. @mrandmittsbakery : Sourdough rules at this bakery besides three kinds of loaves, there are brioche burger buns, focaccia, and pizza bases, all made of sourdough.  ",
      "3. @tresdelhi : They have some special in-house breads which are baked with love and compassion and are to die-for. ",
      "4. @micheartisanbakery : To make sure everything is fresh, they bake just 50 loaves a day. Their three sourdough breads are vegan and organic. Their brioche buns are also great, they sweetened it with shakkar and light focaccia. ",
      "5. @thelazyloaf.in : They are serving an assortment of sourdough loaves like olive and rosemary, whole wheat, brioche, country and multi-seed! You can even order cheese by Spotted Cow Fromagerie.\n",
      "As winter has set in, we are all reaching out to warmer pastures and warmer drinks. And one of our favourite, go-to drinks for the cold is a Hot Toddy.Traditionally made with bourbon, honey,  tea and lemon it’s basically comfort in a cup. The lemon adds that zing of freshness and honey adds the perfect amount of sweetness. What more, it is so easy to brew at home. Apart from being perfect to calm you after a day out in the cold, it also has great therapeutic qualities and is perfect if you are nursing a cold.Still don’t want to make the effort of brewing one at home? Just head over to your fav bar and they’ll brew one for you, even if it ain’t on the menu..📸: @feastingathome\n",
      "Untwist the cap,Pour a glass, and Let the festivities begin!Nothing says celebration like a Bailey's indulgence, the ideal Christmas boozy fix!'Tis the season to indulge and the perfect way to do so is with a Bailey’s treat!#baileys #deliciouslybaileys #dessert #baileyscocktails #dontmindifibaileys #baileystreat #baileyshotchocolate #baileyscake #baileysirishcream #baileyscoffee @socialgoatindia\n",
      "Missing out on all the Christmas cheer ‘coz you are vegan or are allergic to gluten? Don’t worry, we have you covered with vegan friendly fixes for the quintessential Christmas cake – Plum cake!Tip 1: Swap out the regular flour for a mix of ground hazelnuts, brown rice and buckwheat flourTip 2: Use baking soda and vinegar instead of eggsTip 3: Switch to almond milk in place of regular milkThese tips should stand you in good stead for not just plum cake, but almost any cake!.📸: lifescoops.blogspot.com\n",
      "Make it a red-letter day. Get your baking hat on. Bring out the fairy lights. Dress up the tree. Hang out stockings full of wishes. Ring in X’mas cheer over a @beefeatergin Cocktail. And reserve some to sing Happy New Year soon! 🍸🎄🌟 #Beefeater #Londondrygin #Gin #BeefeaterSimpleJoys #Merry #Christmas\n",
      "Just stuffing the stockings is not enough! We have the holiday season list of Christmas feasts in town you need to bookmark now! .1. @nege.ju : For a scrumptious Christmas dinner that’s offering Aromatic Stuffed Duck, Veg Wellington, Leg of Ham, Plum Pudding, and more, this is your place to visit or order in!  ",
      "2. @platsdelhi : They’ve come up with “The Plats Christmas Meal” featuring seasonal holiday favorites like Bruleed camembert with candied pecans, roasted grapes, Pancetta, onion and caramelized apple galette and Sticky toffee pudding with brandy anglaise. ",
      "3. @andazdelhi : They are hosting a very special Christmas eve dinner and a Christmas brunch at AnnaMaya, the spread includes a lavish 5-course feast, including alcohol. The menu has a slow roast butterball turkey breast, herb gnocchi with roasted red pepper sauce, and more. ",
      "4. @oberoinewdelhi : Chicken cordon bleu with truffle wilted spinach, Lamb Shepherd's Pie, Honey glazed ham with Riesling-Mustard Glaze, Orange and Coriander Marinated Salmon with warm quinoa tabbouleh, and much more, only at The Oberoi, book now to gorge on this delish Christmas feast!5. @caarafood : From today until the 31st (including New Year’s Eve) they have a delicious (additional) festive menu at their cafe in Malcha Marg, ranging from turkey double crusted pot pie, Christmas salted backed beetroot salad with roasted walnuts, smoked confit chicken in cappelletti pasta with sage and cream sauce and of course mince pies!\n",
      "A piece of really good meat can be everything and there is nothing better than a delicious BBQ meal, specially during the winters. Checkout these 3 places to get some juicy delicious meats for your winter BBQ:1. @slow_bbq - Using a combination Of fine wood , coconut husk charcoal and very precise techniques they slow cook the meat, creating tender / succulent cut that melts in the mouth! Must try are the pork belly burnt ends cooked in a sticky spicy korean smoked ketchup thats are like bacon and marshmallows put together, the slow cooked chicken with a secret spice rub and the Australian lamb chops marinated with a lot garlic berber spices along with a portion of sweet pumpkin fresh turmeric harissa hummus is to die for! ",
      "2. @artisan_meats - For gourmet and hand-crafted meats this is your stop! Their must-order are the Korean style Belgian pork spare ribs, the highland lamb burger patties with a Black Truffle Rub that are completely unseasoned cause that makes the meat to shine and its absolutely yummm! ",
      "3. @hman_bbq - With a very premium rage of raw BBQ meats their product are super fresh and juicy. From processed meats to marinated meats, smoked meats and even some fun burger baskets and a DIY philly box, you’ve got a lot to pick and choose from!\n",
      "Making of UNICORN CAKE🦄🦄🎂🎂@rapturebakery.▶️ YouTube: Foodie Incarnate.#foodieincarnate #sodelhi #newdelhi #foodtalkindia #delhigram #indianfood #delhifoodblogger #foodgasm #foodporn #foodpornshare #foodlover #foodgram #foodiesofinstagram #foodie #indianstreetfood #cakesofinstagram #delhifood #foodindia #mumbaifood #delhifoodie #eastdelhi #indianfoodie #unicorncakes #indianfoodblogger #cakeart #unicornlove #cakedecorations #cakedecor #unicorncake #unicorn\n",
      "Hello 2021! Be kinder than 2020🤗🤗 #foodieincarnate #delhifoodblogger #indianfoodblogger #blogger #2021 #happynewyear\n",
      "EASY CARAMEL CUSTARD PUDDING🍮🍮 that anyone can make at home easily🤗🤗.1) Heat sugar in a pan on medium flame until you see golden caramel color. Pour this hot caramel sugar in a baking mould/dish.2) In a blender jar add white bread slices(edges removed) to form a smooth powder consistency.3) Dissolve 2tbsp custard powder with 4tbsp water/milk in a bowl. Keep it aside.4) Heat milk in a pot. As soon as it boils, reduce the flame & add the dissolved custard powder. You can also add sugar if you want the taste to be on sweeter side.5) After 30 seconds add the bread mixture. Whisk/stir to mix the bread custard into a thick smooth mixture.6) Add this custatd bread mix over the caramel in the baking mould/dish.7) Cover it with foil paper & steam it on medium flame for 20-30 minutes.8) Enjoy it hot or serve it chilled🤗🤗..#foodieincarnate #sodelhi #newdelhi #foodtalkindia #happynewyear #delhigram #indianfood #caramelcustard #indianrecipe #easyrecipe #soulfood #vscofood #f52grams #nomnom #foodcoma #delhi_igers #instacakes #pudding #all_shots #eatingfortheinsta #custard #cakeporn #instacake #foodporn #yummy #simplerecipes #nooven #desserts #nobakecake #easycake\n",
      "MAKING & गृह प्रवेश OF 24 INCH MONSTER PIZZA😱😱🍕🍕Watch the full video🤗🤗.📍La Pino'z, Golf Course Road, Gurgaon.▶️ YouTube: Foodie Incarnate.#foodieincarnate #sodelhi #newdelhi #foodtalkindia #delhigram #indianfood #delhifoodblogger #foodgasm #foodporn #foodpornshare #foodlover #foodgram #foodiesofinstagram #foodie #indianstreetfood #streetfood #delhistreetfood #streetfoodindia #mumbaistreetfood #delhifoodie #gurgaon #indianfoodie #gurgaonfood #indianfoodblogger #pizzalover #pizzahut #dominos #lapinoz #monsterpizza #pizza\n",
      "TASTIEST COFFEE EVER☕❤I love coffee & i've had coffee at countless places across India but no other coffee even comes close to the heavenly filter coffee of Maiyas in Bengaluru. It is simply too good to be described in words!I literally fell in love with it. In 4 days when i was staying nearby, i had over 40 cups of coffee here. No matter where i went in Bengaluru, I kept coming back to this shop to have another 2-3 cups of this heavenly coffee. If you are a coffee lover, then this coffee is so good that you can visit Begaluru for the sake of this coffee alone. Highly, highly recommended.👍🏻👍🏻.▶️ YouTube: Foodie Incarnate.#foodieincarnate #sodelhi #newdelhi #foodtalkindia #delhigram #indianfood #delhifoodblogger #foodgasm #foodporn #foodpornshare #foodlover #foodgram #foodiesofinstagram #foodie #indianstreetfood #streetfood #delhistreetfood #streetfoodindia #mumbaistreetfood #delhifoodie #coffee #indianfoodie #bangalorefood #indianfoodblogger #bangalorediaries #bangalorefoodblogger #nammabengaluru #nammabangalore #nammakarnataka #filtercoffee\n",
      "Chole Chaat from Mumbai😍😍 Did this make you hungry?? Oh street food! You are so droolworthy!!🤤🤤.Where: Ghatkopar Khau Gali, Mumbai.#foodieincarnate\n",
      "Mumbai Style Garlic Bread in Delhi🤩🤩.📍Wow Sandwiches, South Ex 1, Delhi.▶️ YouTube: Foodie Incarnate.#foodieincarnate #sodelhi #newdelhi #foodtalkindia #delhigram #indianfood #delhifoodblogger #foodgasm #foodporn #foodpornshare #foodlover #foodgram #foodiesofinstagram #foodie #indianstreetfood #streetfood #delhistreetfood #streetfoodindia #mumbaistreetfood #delhifoodie #cheeselover #indianfoodie #southdelhi #indianfoodblogger #foodindia #mumbaifoodblogger #cheesebread #sandwich #cheesy #garlicbread\n",
      "DESI GHEE KA TADKA maar ke dhaaba dal😍😍.To know the location, watch the full video on my You Tube channel. Link in the bio🤗🤗#foodieincarnate #reelitfeelit #reelkarofeelkaro #desighee #dalmakhani #foodblogger #delhifoodie #desikhana #gurugram #gurgaon #streetfood #delhistreetfood #dhabafood #desifood #gurgaonfoodie #oldgurgaon #gurgaonfood #mumbaifoodie #gurugramfood #foodbloggers #foodie #foodlover #delhi #punjabi #delhifood #bangalorefood #mumbaifood\n",
      "FLYING DAHI VADA😱🛸.Located in Sarafa Bazar of Indore, Joshi Dahi Bada house is famous for it's flying dahi bada. The owner of this shop (Joshi ji) has a unique technique of preparing the Dahi Vadas in which he bounces the dahi vada plate high in the air and then catches it. He repeats it a couple of times and then he sprinkles it with 5 different spices, all seaparately from a single pinch. Both of these processes are amazing to watch this talent of Joshi ji is unmatched. While the taste of their dahi vada is okay okay but another quality of Joshi jee that will win your heart is that he treats all his customers like his God. He serves dahi vadas with so much love and respect that it doesn't matter how the taste is but you will relish every single spoon of it. Highly, highly recommended.❤..#foodieincarnate #sodelhi #newdelhi #foodtalkindia #desifood #delhigram #indianfood #delhifoodblogger #delhistreetfood #delhi #delhifood #delhifoodies #food #foodie #foodporn #foodstagram #instadaily #foodmaniacindia #instafood #delhifoodies #indianstreetfood #indianrecipe #eveningsnack #dahipuri #tasteofindia #vscofood #indorefood #indore #dahivada #chaat\n",
      "Enjoying the Saivam (vegetarian) thali at Dakshin, ITC Sheraton Delhi 🤩🤩.This thali had dishes from 4 different South Indian states and the food served in it was so simple yet so delicious. Prices: 1200/- ++.▶️ YouTube: Foodie Incarnate.#foodieincarnate #sodelhi #newdelhi #foodtalkindia #delhigram #indianfood #delhifoodblogger #foodgasm #foodporn #foodpornshare #foodlover #foodgram #foodiesofinstagram #foodie #indianstreetfood #streetfood #delhistreetfood #streetfoodindia #mumbaistreetfood #delhifoodie #itcsheraton #indianfoodie #southindian #indianfoodblogger #southindianfood #delhidiaries #amarsirohi #appam #southdelhi #thali\n"
     ]
    }
   ],
   "source": [
    "#printing the content of each posts\n",
    "list_content=scrap_content_of_posts()\n",
    "for i in list_content:\n",
    "    print(i)"
   ]
  },
  {
   "cell_type": "markdown",
   "metadata": {},
   "source": [
    "## 2.2 Preparing a list of all words used in all the scraped posts and calculating the frequency of each word"
   ]
  },
  {
   "cell_type": "code",
   "execution_count": 17,
   "metadata": {},
   "outputs": [],
   "source": [
    "def get_frequency_of_words():\n",
    "    dict_freq={}\n",
    "    for i in list_content:\n",
    "        for word in i.split():\n",
    "            if word.startswith('#') or word.isalpha():\n",
    "                dict_freq[word]=dict_freq.get(word,0)+1\n",
    "    return dict_freq           "
   ]
  },
  {
   "cell_type": "code",
   "execution_count": 19,
   "metadata": {},
   "outputs": [],
   "source": [
    "def prepare_list_of_words_with_frequency():\n",
    "    list_word_freq=[]\n",
    "    dict_freq=get_frequency_of_words()\n",
    "    for word,freq in dict_freq.items():\n",
    "        list_word_freq.append([word,freq])\n",
    "    return list_word_freq    "
   ]
  },
  {
   "cell_type": "markdown",
   "metadata": {},
   "source": [
    "## 2.3 Creating a csv file with two columns : the word and its frequency and storing all words and its frequency into it"
   ]
  },
  {
   "cell_type": "code",
   "execution_count": 20,
   "metadata": {},
   "outputs": [
    {
     "data": {
      "text/html": [
       "<div>\n",
       "<style scoped>\n",
       "    .dataframe tbody tr th:only-of-type {\n",
       "        vertical-align: middle;\n",
       "    }\n",
       "\n",
       "    .dataframe tbody tr th {\n",
       "        vertical-align: top;\n",
       "    }\n",
       "\n",
       "    .dataframe thead th {\n",
       "        text-align: right;\n",
       "    }\n",
       "</style>\n",
       "<table border=\"1\" class=\"dataframe\">\n",
       "  <thead>\n",
       "    <tr style=\"text-align: right;\">\n",
       "      <th></th>\n",
       "      <th>Word</th>\n",
       "      <th>Frequency</th>\n",
       "    </tr>\n",
       "  </thead>\n",
       "  <tbody>\n",
       "    <tr>\n",
       "      <th>0</th>\n",
       "      <td>Tepong</td>\n",
       "      <td>2</td>\n",
       "    </tr>\n",
       "    <tr>\n",
       "      <th>1</th>\n",
       "      <td>Pork</td>\n",
       "      <td>1</td>\n",
       "    </tr>\n",
       "    <tr>\n",
       "      <th>2</th>\n",
       "      <td>comfort</td>\n",
       "      <td>2</td>\n",
       "    </tr>\n",
       "    <tr>\n",
       "      <th>3</th>\n",
       "      <td>got</td>\n",
       "      <td>2</td>\n",
       "    </tr>\n",
       "    <tr>\n",
       "      <th>4</th>\n",
       "      <td>to</td>\n",
       "      <td>83</td>\n",
       "    </tr>\n",
       "  </tbody>\n",
       "</table>\n",
       "</div>"
      ],
      "text/plain": [
       "      Word  Frequency\n",
       "0   Tepong          2\n",
       "1     Pork          1\n",
       "2  comfort          2\n",
       "3      got          2\n",
       "4       to         83"
      ]
     },
     "execution_count": 20,
     "metadata": {},
     "output_type": "execute_result"
    }
   ],
   "source": [
    "list_word_freq=prepare_list_of_words_with_frequency()\n",
    "df=pd.DataFrame(list_word_freq,columns=['Word','Frequency'])\n",
    "df.head()"
   ]
  },
  {
   "cell_type": "code",
   "execution_count": 21,
   "metadata": {},
   "outputs": [],
   "source": [
    "df.to_csv('word_frequency.csv',index=False)"
   ]
  },
  {
   "cell_type": "markdown",
   "metadata": {},
   "source": [
    "## 2.4 Finding the hashtags that were most popular among these bloggers"
   ]
  },
  {
   "cell_type": "code",
   "execution_count": 24,
   "metadata": {},
   "outputs": [],
   "source": [
    "def get_frequency_of_hashtags():\n",
    "    hashtags=[]\n",
    "    hashtags_count=[]\n",
    "    dict_freq=get_frequency_of_words()\n",
    "    for word,freq in dict_freq.items():\n",
    "        if word.startswith('#'):\n",
    "            hashtags.append(word)\n",
    "            hashtags_count.append(freq)\n",
    "    return hashtags,hashtags_count       "
   ]
  },
  {
   "cell_type": "markdown",
   "metadata": {},
   "source": [
    "## 2.5 Plottng a Pie Chart of the top 5 hashtags obtained and the number of times they were used by these bloggers in the scraped posts"
   ]
  },
  {
   "cell_type": "code",
   "execution_count": 25,
   "metadata": {},
   "outputs": [
    {
     "data": {
      "image/png": "[encoded data removed]",
      "text/plain": [
       "<Figure size 432x288 with 1 Axes>"
      ]
     },
     "metadata": {},
     "output_type": "display_data"
    }
   ],
   "source": [
    "hashtags,hashtags_count=get_frequency_of_hashtags()\n",
    "hashtags=np.array(hashtags)\n",
    "hashtags_count=np.array(hashtags_count)\n",
    "indices=np.argsort(hashtags_count)[::-1][:5]\n",
    "top_5_hashtags=hashtags[indices]\n",
    "top_5_hashtags_count=hashtags_count[indices]\n",
    "plt.pie(top_5_hashtags_count,labels=top_5_hashtags,autopct='%.2f%%')\n",
    "plt.title('Top 5 Hashtags')\n",
    "plt.show()"
   ]
  },
  {
   "cell_type": "markdown",
   "metadata": {},
   "source": [
    "## 3.1 Find out the likes of the top 10 posts of the 5 handles obtained earlier"
   ]
  },
  {
   "cell_type": "code",
   "execution_count": 31,
   "metadata": {},
   "outputs": [],
   "source": [
    "def get_likes_of_top_10_posts():\n",
    "    likes_dict={}\n",
    "    for insta_handle in top_5_handles:\n",
    "        driver.get('https://www.instagram.com/'+insta_handle)\n",
    "        post=wait.until(EC.presence_of_element_located((By.XPATH, '//div[@class=\"_9AhH0\"]')))\n",
    "        post.click()\n",
    "        next_btn=wait.until(EC.presence_of_element_located((By.XPATH, '//a[contains(@class,\"coreSpriteRightPaginationArrow\")]')))\n",
    "        c=0\n",
    "        total_likes=0\n",
    "        while c<10:\n",
    "            like=''\n",
    "            try:\n",
    "                like=wait.until(EC.presence_of_element_located((By.XPATH, '//span[@class=\"vcOH2\"]/span')))\n",
    "            except:\n",
    "                like=wait.until(EC.presence_of_element_located((By.XPATH, '//div[@class=\"Nm9Fw\"]//button[contains(@class,\"sqdOP\")]/span')))\n",
    "\n",
    "            total_likes+=int(''.join(like.text.split(',')))\n",
    "            c+=1     \n",
    "            next_btn.click()\n",
    "        likes_dict[insta_handle]=total_likes          \n",
    "    return likes_dict"
   ]
  },
  {
   "cell_type": "code",
   "execution_count": 32,
   "metadata": {},
   "outputs": [
    {
     "name": "stdout",
     "output_type": "stream",
     "text": [
      "foodnetwork 2055323\n",
      "foodandwine 548007\n",
      "yourfoodlab 1760931\n",
      "foodtalkindia 11827\n",
      "foodie_incarnate 290807\n"
     ]
    }
   ],
   "source": [
    "#printing the likes of all 5 instagram handles\n",
    "likes_dict=get_likes_of_top_10_posts()\n",
    "for handle in likes_dict:\n",
    "    print(handle,likes_dict[handle])"
   ]
  },
  {
   "cell_type": "markdown",
   "metadata": {},
   "source": [
    "## 3.2 Calculating the average likes for each handle"
   ]
  },
  {
   "cell_type": "code",
   "execution_count": 33,
   "metadata": {},
   "outputs": [],
   "source": [
    "likes=np.array(list(likes_dict.values()))\n",
    "avg_likes=likes/10"
   ]
  },
  {
   "cell_type": "markdown",
   "metadata": {},
   "source": [
    "## 3.3 Calculating like ratio for each handle "
   ]
  },
  {
   "cell_type": "code",
   "execution_count": 34,
   "metadata": {},
   "outputs": [],
   "source": [
    "like_ratio=followers/avg_likes"
   ]
  },
  {
   "cell_type": "markdown",
   "metadata": {},
   "source": [
    "## 3.4 Creating a bar graph of Instagram handles vs Like ratio"
   ]
  },
  {
   "cell_type": "code",
   "execution_count": 35,
   "metadata": {},
   "outputs": [
    {
     "data": {
      "image/png": "[encoded data removed]",
      "text/plain": [
       "<Figure size 432x288 with 1 Axes>"
      ]
     },
     "metadata": {
      "needs_background": "light"
     },
     "output_type": "display_data"
    }
   ],
   "source": [
    "plt.bar(top_5_handles,like_ratio,color='blue')\n",
    "plt.xticks(rotation=45)\n",
    "plt.xlabel('Top 5 Instagram Handles-->')\n",
    "plt.ylabel('Like ratio->')\n",
    "plt.title('Instagram handles vs Like ratio')\n",
    "plt.show()"
   ]
  }
 ],
 "metadata": {
  "kernelspec": {
   "display_name": "Python 3",
   "language": "python",
   "name": "python3"
  },
  "language_info": {
   "codemirror_mode": {
    "name": "ipython",
    "version": 3
   },
   "file_extension": ".py",
   "mimetype": "text/x-python",
   "name": "python",
   "nbconvert_exporter": "python",
   "pygments_lexer": "ipython3",
   "version": "3.7.6"
  }
 },
 "nbformat": 4,
 "nbformat_minor": 4
}
